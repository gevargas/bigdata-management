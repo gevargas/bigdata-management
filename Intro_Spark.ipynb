{
  "nbformat": 4,
  "nbformat_minor": 0,
  "metadata": {
    "colab": {
      "name": "Intro Spark.ipynb",
      "provenance": [],
      "collapsed_sections": [],
      "include_colab_link": true
    },
    "kernelspec": {
      "display_name": "Python 3",
      "name": "python3"
    }
  },
  "cells": [
    {
      "cell_type": "markdown",
      "metadata": {
        "id": "view-in-github",
        "colab_type": "text"
      },
      "source": [
        "<a href=\"https://colab.research.google.com/github/gevargas/bigdata-management/blob/master/Intro_Spark.ipynb\" target=\"_parent\"><img src=\"https://colab.research.google.com/assets/colab-badge.svg\" alt=\"Open In Colab\"/></a>"
      ]
    },
    {
      "cell_type": "markdown",
      "source": [
        "# Baby stepts into **Spark**"
      ],
      "metadata": {
        "id": "-l1qnk9WdpCW"
      }
    },
    {
      "cell_type": "markdown",
      "metadata": {
        "id": "unYwCwjvg_Ct"
      },
      "source": [
        "## Colab configuration"
      ]
    },
    {
      "cell_type": "code",
      "metadata": {
        "id": "F08YfGw-HBCw"
      },
      "source": [
        "SPARK_VERSION   = \"3.0.0\"\n",
        "HADOOP_VERSION  = \"2.7\"\n",
        "OPENJDK_VERSION = \"11\""
      ],
      "execution_count": 1,
      "outputs": []
    },
    {
      "cell_type": "code",
      "metadata": {
        "id": "qlc-jAyiQdOe"
      },
      "source": [
        "import os\n",
        "os.environ[\"JAVA_HOME\"]  = \"/usr/lib/jvm/java-{0}-openjdk-amd64\".format(OPENJDK_VERSION)\n",
        "os.environ[\"SPARK_HOME\"] = \"/usr/local/spark\""
      ],
      "execution_count": 2,
      "outputs": []
    },
    {
      "cell_type": "code",
      "metadata": {
        "id": "Z7SA7lm6Nmsr",
        "colab": {
          "base_uri": "https://localhost:8080/"
        },
        "outputId": "bfedd042-ffcf-4355-9e37-bd2ebdc40b13"
      },
      "source": [
        "# Java\n",
        "!apt-get update && apt-get install --no-install-recommends -y openjdk-\"$OPENJDK_VERSION\"-jdk-headless -qq > /dev/null\n",
        "\n",
        "# Spark\n",
        "!curl -L --silent https://archive.apache.org/dist/spark/spark-\"$SPARK_VERSION\"/spark-\"$SPARK_VERSION\"-bin-hadoop\"$HADOOP_VERSION\".tgz > spark-\"$SPARK_VERSION\"-bin-hadoop\"$HADOOP_VERSION\".tgz\n",
        "!tar xzf spark-\"$SPARK_VERSION\"-bin-hadoop\"$HADOOP_VERSION\".tgz\n",
        "!rm spark-\"$SPARK_VERSION\"-bin-hadoop\"$HADOOP_VERSION\".tgz\n",
        "!mv spark-\"$SPARK_VERSION\"-bin-hadoop\"$HADOOP_VERSION\" /usr/local/spark\n",
        "\n",
        "!pip install -q findspark"
      ],
      "execution_count": 3,
      "outputs": [
        {
          "output_type": "stream",
          "name": "stdout",
          "text": [
            "Hit:1 http://archive.ubuntu.com/ubuntu bionic InRelease\n",
            "Get:2 http://archive.ubuntu.com/ubuntu bionic-updates InRelease [88.7 kB]\n",
            "Get:3 http://archive.ubuntu.com/ubuntu bionic-backports InRelease [74.6 kB]\n",
            "Get:4 http://security.ubuntu.com/ubuntu bionic-security InRelease [88.7 kB]\n",
            "Get:5 https://cloud.r-project.org/bin/linux/ubuntu bionic-cran40/ InRelease [3,626 B]\n",
            "Get:6 http://ppa.launchpad.net/c2d4u.team/c2d4u4.0+/ubuntu bionic InRelease [15.9 kB]\n",
            "Ign:7 https://developer.download.nvidia.com/compute/cuda/repos/ubuntu1804/x86_64  InRelease\n",
            "Ign:8 https://developer.download.nvidia.com/compute/machine-learning/repos/ubuntu1804/x86_64  InRelease\n",
            "Get:9 https://developer.download.nvidia.com/compute/cuda/repos/ubuntu1804/x86_64  Release [696 B]\n",
            "Hit:10 https://developer.download.nvidia.com/compute/machine-learning/repos/ubuntu1804/x86_64  Release\n",
            "Get:11 https://developer.download.nvidia.com/compute/cuda/repos/ubuntu1804/x86_64  Release.gpg [836 B]\n",
            "Hit:12 http://ppa.launchpad.net/cran/libgit2/ubuntu bionic InRelease\n",
            "Get:13 http://ppa.launchpad.net/deadsnakes/ppa/ubuntu bionic InRelease [15.9 kB]\n",
            "Get:14 http://ppa.launchpad.net/graphics-drivers/ppa/ubuntu bionic InRelease [21.3 kB]\n",
            "Get:15 http://archive.ubuntu.com/ubuntu bionic-updates/restricted amd64 Packages [918 kB]\n",
            "Get:16 http://archive.ubuntu.com/ubuntu bionic-updates/multiverse amd64 Packages [29.8 kB]\n",
            "Get:17 http://archive.ubuntu.com/ubuntu bionic-updates/main amd64 Packages [3,132 kB]\n",
            "Get:18 http://archive.ubuntu.com/ubuntu bionic-updates/universe amd64 Packages [2,267 kB]\n",
            "Get:19 http://archive.ubuntu.com/ubuntu bionic-backports/main amd64 Packages [12.2 kB]\n",
            "Get:20 http://archive.ubuntu.com/ubuntu bionic-backports/universe amd64 Packages [12.9 kB]\n",
            "Get:21 https://cloud.r-project.org/bin/linux/ubuntu bionic-cran40/ Packages [82.3 kB]\n",
            "Get:22 http://ppa.launchpad.net/c2d4u.team/c2d4u4.0+/ubuntu bionic/main Sources [1,831 kB]\n",
            "Get:24 https://developer.download.nvidia.com/compute/cuda/repos/ubuntu1804/x86_64  Packages [951 kB]\n",
            "Get:25 http://ppa.launchpad.net/c2d4u.team/c2d4u4.0+/ubuntu bionic/main amd64 Packages [938 kB]\n",
            "Get:26 http://security.ubuntu.com/ubuntu bionic-security/universe amd64 Packages [1,489 kB]\n",
            "Get:27 http://ppa.launchpad.net/deadsnakes/ppa/ubuntu bionic/main amd64 Packages [45.3 kB]\n",
            "Get:28 http://security.ubuntu.com/ubuntu bionic-security/main amd64 Packages [2,693 kB]\n",
            "Get:29 http://security.ubuntu.com/ubuntu bionic-security/restricted amd64 Packages [884 kB]\n",
            "Get:30 http://ppa.launchpad.net/graphics-drivers/ppa/ubuntu bionic/main amd64 Packages [44.3 kB]\n",
            "Fetched 15.6 MB in 4s (4,019 kB/s)\n",
            "Reading package lists... Done\n"
          ]
        }
      ]
    },
    {
      "cell_type": "markdown",
      "metadata": {
        "id": "PlTe4SA7Owdl"
      },
      "source": [
        "## Pyspark configuration\n",
        "\n",
        "Modify according to your needs"
      ]
    },
    {
      "cell_type": "code",
      "metadata": {
        "id": "Ge5UOwQJIDjs"
      },
      "source": [
        "import os\n",
        "import findspark\n",
        "\n",
        "SPARK_DRIVER_MEMORY   = \"8g\"\n",
        "\n",
        "os.environ[\"PYSPARK_SUBMIT_ARGS\"] = \"--driver-memory {0} pyspark-shell\".format(SPARK_DRIVER_MEMORY)\n",
        "\n",
        "findspark.init()"
      ],
      "execution_count": 4,
      "outputs": []
    },
    {
      "cell_type": "markdown",
      "metadata": {
        "id": "WzDgM3n7NwJb"
      },
      "source": [
        "# Initializing Spark"
      ]
    },
    {
      "cell_type": "markdown",
      "source": [
        "* SparkContext creation"
      ],
      "metadata": {
        "id": "hcROI8ky6zKj"
      }
    },
    {
      "cell_type": "code",
      "metadata": {
        "id": "gb-ED0zhZyGt",
        "colab": {
          "base_uri": "https://localhost:8080/",
          "height": 193
        },
        "outputId": "bb8252ff-8ba8-4dfa-b91e-800969e7ce9e"
      },
      "source": [
        "import pyspark\n",
        "\n",
        "sc = pyspark.SparkContext.getOrCreate()\n",
        "sc"
      ],
      "execution_count": 5,
      "outputs": [
        {
          "output_type": "execute_result",
          "data": {
            "text/plain": [
              "<SparkContext master=local[*] appName=pyspark-shell>"
            ],
            "text/html": [
              "\n",
              "        <div>\n",
              "            <p><b>SparkContext</b></p>\n",
              "\n",
              "            <p><a href=\"http://c4959b6b6cbb:4040\">Spark UI</a></p>\n",
              "\n",
              "            <dl>\n",
              "              <dt>Version</dt>\n",
              "                <dd><code>v3.0.0</code></dd>\n",
              "              <dt>Master</dt>\n",
              "                <dd><code>local[*]</code></dd>\n",
              "              <dt>AppName</dt>\n",
              "                <dd><code>pyspark-shell</code></dd>\n",
              "            </dl>\n",
              "        </div>\n",
              "        "
            ]
          },
          "metadata": {},
          "execution_count": 5
        }
      ]
    },
    {
      "cell_type": "markdown",
      "source": [
        "# Pyspark example"
      ],
      "metadata": {
        "id": "hZv032iA-5RG"
      }
    },
    {
      "cell_type": "markdown",
      "source": [
        "* Read local/HDFS file"
      ],
      "metadata": {
        "id": "lya70LMZ67Gd"
      }
    },
    {
      "cell_type": "code",
      "metadata": {
        "id": "syYAs2ukoMJS"
      },
      "source": [
        "textFile = sc.textFile(\"sample_data/README.md\")"
      ],
      "execution_count": 6,
      "outputs": []
    },
    {
      "cell_type": "markdown",
      "source": [
        "* Count the number of rows in the file"
      ],
      "metadata": {
        "id": "JFHpAgvH6uzj"
      }
    },
    {
      "cell_type": "code",
      "source": [
        "textFile.count()"
      ],
      "metadata": {
        "id": "4ISPg6EU6IvA",
        "colab": {
          "base_uri": "https://localhost:8080/"
        },
        "outputId": "f5947396-9f8e-4fea-f003-1d7029d192a3"
      },
      "execution_count": 7,
      "outputs": [
        {
          "output_type": "execute_result",
          "data": {
            "text/plain": [
              "19"
            ]
          },
          "metadata": {},
          "execution_count": 7
        }
      ]
    },
    {
      "cell_type": "markdown",
      "source": [
        "* Print first line in file"
      ],
      "metadata": {
        "id": "olg1Ti7I7FQV"
      }
    },
    {
      "cell_type": "code",
      "source": [
        "textFile.first()"
      ],
      "metadata": {
        "id": "m5FiMFFE6tZ1",
        "colab": {
          "base_uri": "https://localhost:8080/",
          "height": 37
        },
        "outputId": "7e38df41-e1fd-4206-a81e-9e95da3b4855"
      },
      "execution_count": 8,
      "outputs": [
        {
          "output_type": "execute_result",
          "data": {
            "text/plain": [
              "'This directory includes a few sample datasets to get you started.'"
            ],
            "application/vnd.google.colaboratory.intrinsic+json": {
              "type": "string"
            }
          },
          "metadata": {},
          "execution_count": 8
        }
      ]
    },
    {
      "cell_type": "markdown",
      "source": [
        "* Count the number of lines containing the word `\"dataset\"` "
      ],
      "metadata": {
        "id": "ts1euMS57iST"
      }
    },
    {
      "cell_type": "code",
      "source": [
        "lines = textFile.filter(lambda line: \"dataset\" in line)\n",
        "lines.count()"
      ],
      "metadata": {
        "id": "09VbSeYu7DX_",
        "colab": {
          "base_uri": "https://localhost:8080/"
        },
        "outputId": "799164ba-68a1-4404-fc37-c4b27e1edef0"
      },
      "execution_count": 9,
      "outputs": [
        {
          "output_type": "execute_result",
          "data": {
            "text/plain": [
              "2"
            ]
          },
          "metadata": {},
          "execution_count": 9
        }
      ]
    },
    {
      "cell_type": "markdown",
      "source": [
        "* Collect (i.e. extract from the spark cluster) the lines containing the word `\"dataset\"`"
      ],
      "metadata": {
        "id": "jk6-GT0p9IrC"
      }
    },
    {
      "cell_type": "code",
      "source": [
        "lines.collect()"
      ],
      "metadata": {
        "id": "ELhj-jdX7g4O",
        "colab": {
          "base_uri": "https://localhost:8080/"
        },
        "outputId": "b4db3a44-85db-413b-ce7a-b070c9ca9ca4"
      },
      "execution_count": 10,
      "outputs": [
        {
          "output_type": "execute_result",
          "data": {
            "text/plain": [
              "['This directory includes a few sample datasets to get you started.',\n",
              " '    [vega_datasets library](https://github.com/altair-viz/vega_datasets/blob/4f67bdaad10f45e3549984e17e1b3088c731503d/vega_datasets/_data/anscombe.json).']"
            ]
          },
          "metadata": {},
          "execution_count": 10
        }
      ]
    },
    {
      "cell_type": "markdown",
      "source": [
        "# First steps working with RDD's"
      ],
      "metadata": {
        "id": "PTJUac-OUdex"
      }
    },
    {
      "cell_type": "markdown",
      "source": [
        "Create a parallelized collection holding the numbers 1 to 5:"
      ],
      "metadata": {
        "id": "umi5WsO0WU56"
      }
    },
    {
      "cell_type": "code",
      "source": [
        "data = [1, 2, 3, 4, 5]\n",
        "distData = sc.parallelize(data)"
      ],
      "metadata": {
        "id": "rTbpSgFtUk7i"
      },
      "execution_count": 12,
      "outputs": []
    },
    {
      "cell_type": "markdown",
      "source": [
        "Once created, the distributed dataset (distData) can be operated on in parallel. \n",
        "\n",
        "For example, we can call distData.reduce(lambda a, b: a + b) to add up the elements of the list."
      ],
      "metadata": {
        "id": "dhFOae7BWcmy"
      }
    },
    {
      "cell_type": "code",
      "source": [
        "distData.reduce(lambda a, b: a + b)"
      ],
      "metadata": {
        "colab": {
          "base_uri": "https://localhost:8080/"
        },
        "id": "aDw1PtmGWPde",
        "outputId": "3ff64d4a-a88d-4329-87f8-66e69798fa87"
      },
      "execution_count": 13,
      "outputs": [
        {
          "output_type": "execute_result",
          "data": {
            "text/plain": [
              "15"
            ]
          },
          "metadata": {},
          "execution_count": 13
        }
      ]
    },
    {
      "cell_type": "markdown",
      "source": [
        "An important parameter for parallel collections is the number of partitions to cut the dataset into. \n",
        "Spark will run one task for each partition of the cluster. \n",
        "\n",
        "*   Spark will run one task for each partition of the cluster. \n",
        "*   Typically you want 2-4 partitions for each CPU in your cluster. \n",
        "\n",
        "Normally, Spark tries to set the number of partitions automatically based on your cluster. However, you can also set it manually by passing it as a second parameter to parallelize (e.g. sc.parallelize(data, 10)). \n",
        "\n",
        "Note: some places in the code use the term slices (a synonym for partitions) to maintain backward compatibility."
      ],
      "metadata": {
        "id": "v5mNiJhHWyys"
      }
    },
    {
      "cell_type": "markdown",
      "source": [
        "## RDD operations"
      ],
      "metadata": {
        "id": "SK-7in94XYRI"
      }
    },
    {
      "cell_type": "code",
      "source": [
        "lines = sc.textFile(\"sample_data/README.md\")\n",
        "lineLengths = lines.map(lambda s: len(s))\n",
        "totalLength = lineLengths.reduce(lambda a, b: a + b)"
      ],
      "metadata": {
        "id": "agjAKd6sWqoD"
      },
      "execution_count": 15,
      "outputs": []
    },
    {
      "cell_type": "code",
      "source": [
        "totalLength"
      ],
      "metadata": {
        "colab": {
          "base_uri": "https://localhost:8080/"
        },
        "id": "VPC6ttIpYh6X",
        "outputId": "8240a5dc-9190-4f06-e13e-69c61cfb8a37"
      },
      "execution_count": 16,
      "outputs": [
        {
          "output_type": "execute_result",
          "data": {
            "text/plain": [
              "911"
            ]
          },
          "metadata": {},
          "execution_count": 16
        }
      ]
    },
    {
      "cell_type": "markdown",
      "source": [
        "The first line defines a base RDD from an external file.\n",
        "This dataset is not loaded in memory or otherwise acted on: lines is merely a pointer to the file. \n",
        "\n",
        "The second line defines lineLengths as the result of a map transformation. Again, lineLengths is not immediately computed, due to laziness. \n",
        "\n",
        "Finally, we run reduce, which is an action. \n",
        "\n",
        "At this point Spark breaks the computation into tasks to run on separate machines, and each machine runs both its part of the map and a local reduction, returning only its answer to the driver program.\n",
        "\n",
        "If we also wanted to use lineLengths again later, we could add:"
      ],
      "metadata": {
        "id": "ctrODzQhYFiw"
      }
    }
  ]
}