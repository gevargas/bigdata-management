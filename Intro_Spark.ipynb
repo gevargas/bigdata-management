{
  "nbformat": 4,
  "nbformat_minor": 0,
  "metadata": {
    "colab": {
      "name": "Intro Spark.ipynb",
      "provenance": [],
      "include_colab_link": true
    },
    "kernelspec": {
      "display_name": "Python 3",
      "name": "python3"
    }
  },
  "cells": [
    {
      "cell_type": "markdown",
      "metadata": {
        "id": "view-in-github",
        "colab_type": "text"
      },
      "source": [
        "<a href=\"https://colab.research.google.com/github/gevargas/bigdata-management/blob/master/Intro_Spark.ipynb\" target=\"_parent\"><img src=\"https://colab.research.google.com/assets/colab-badge.svg\" alt=\"Open In Colab\"/></a>"
      ]
    },
    {
      "cell_type": "markdown",
      "source": [
        "# Baby stepts into **Spark**"
      ],
      "metadata": {
        "id": "-l1qnk9WdpCW"
      }
    },
    {
      "cell_type": "markdown",
      "metadata": {
        "id": "unYwCwjvg_Ct"
      },
      "source": [
        "## Colab configuration"
      ]
    },
    {
      "cell_type": "code",
      "metadata": {
        "id": "F08YfGw-HBCw"
      },
      "source": [
        "SPARK_VERSION   = \"3.0.0\"\n",
        "HADOOP_VERSION  = \"2.7\"\n",
        "OPENJDK_VERSION = \"11\""
      ],
      "execution_count": null,
      "outputs": []
    },
    {
      "cell_type": "code",
      "metadata": {
        "id": "qlc-jAyiQdOe"
      },
      "source": [
        "import os\n",
        "os.environ[\"JAVA_HOME\"]  = \"/usr/lib/jvm/java-{0}-openjdk-amd64\".format(OPENJDK_VERSION)\n",
        "os.environ[\"SPARK_HOME\"] = \"/usr/local/spark\""
      ],
      "execution_count": null,
      "outputs": []
    },
    {
      "cell_type": "code",
      "metadata": {
        "id": "Z7SA7lm6Nmsr"
      },
      "source": [
        "# Java\n",
        "!apt-get update && apt-get install --no-install-recommends -y openjdk-\"$OPENJDK_VERSION\"-jdk-headless -qq > /dev/null\n",
        "\n",
        "# Spark\n",
        "!curl -L --silent https://archive.apache.org/dist/spark/spark-\"$SPARK_VERSION\"/spark-\"$SPARK_VERSION\"-bin-hadoop\"$HADOOP_VERSION\".tgz > spark-\"$SPARK_VERSION\"-bin-hadoop\"$HADOOP_VERSION\".tgz\n",
        "!tar xzf spark-\"$SPARK_VERSION\"-bin-hadoop\"$HADOOP_VERSION\".tgz\n",
        "!rm spark-\"$SPARK_VERSION\"-bin-hadoop\"$HADOOP_VERSION\".tgz\n",
        "!mv spark-\"$SPARK_VERSION\"-bin-hadoop\"$HADOOP_VERSION\" /usr/local/spark\n",
        "\n",
        "!pip install -q findspark"
      ],
      "execution_count": null,
      "outputs": []
    },
    {
      "cell_type": "markdown",
      "metadata": {
        "id": "PlTe4SA7Owdl"
      },
      "source": [
        "## Pyspark configuration\n",
        "\n",
        "Modify according to your needs"
      ]
    },
    {
      "cell_type": "code",
      "metadata": {
        "id": "Ge5UOwQJIDjs"
      },
      "source": [
        "import os\n",
        "import findspark\n",
        "\n",
        "SPARK_DRIVER_MEMORY   = \"8g\"\n",
        "\n",
        "os.environ[\"PYSPARK_SUBMIT_ARGS\"] = \"--driver-memory {0} pyspark-shell\".format(SPARK_DRIVER_MEMORY)\n",
        "\n",
        "findspark.init()"
      ],
      "execution_count": null,
      "outputs": []
    },
    {
      "cell_type": "markdown",
      "metadata": {
        "id": "WzDgM3n7NwJb"
      },
      "source": [
        "# Initializing Spark"
      ]
    },
    {
      "cell_type": "markdown",
      "source": [
        "* SparkContext creation"
      ],
      "metadata": {
        "id": "hcROI8ky6zKj"
      }
    },
    {
      "cell_type": "code",
      "metadata": {
        "id": "gb-ED0zhZyGt"
      },
      "source": [
        "import pyspark\n",
        "\n",
        "sc = pyspark.SparkContext.getOrCreate()\n",
        "sc"
      ],
      "execution_count": null,
      "outputs": []
    },
    {
      "cell_type": "markdown",
      "source": [
        "# Pyspark example"
      ],
      "metadata": {
        "id": "hZv032iA-5RG"
      }
    },
    {
      "cell_type": "markdown",
      "source": [
        "* Read local/HDFS file"
      ],
      "metadata": {
        "id": "lya70LMZ67Gd"
      }
    },
    {
      "cell_type": "code",
      "metadata": {
        "id": "syYAs2ukoMJS"
      },
      "source": [
        "textFile = sc.textFile(\"sample_data/README.md\")"
      ],
      "execution_count": null,
      "outputs": []
    },
    {
      "cell_type": "markdown",
      "source": [
        "* Count the number of rows in the file"
      ],
      "metadata": {
        "id": "JFHpAgvH6uzj"
      }
    },
    {
      "cell_type": "code",
      "source": [
        "textFile.count()"
      ],
      "metadata": {
        "id": "4ISPg6EU6IvA"
      },
      "execution_count": null,
      "outputs": []
    },
    {
      "cell_type": "markdown",
      "source": [
        "* Print first line in file"
      ],
      "metadata": {
        "id": "olg1Ti7I7FQV"
      }
    },
    {
      "cell_type": "code",
      "source": [
        "textFile.first()"
      ],
      "metadata": {
        "id": "m5FiMFFE6tZ1"
      },
      "execution_count": null,
      "outputs": []
    },
    {
      "cell_type": "markdown",
      "source": [
        "* Count the number of lines containing the word `\"dataset\"`"
      ],
      "metadata": {
        "id": "ts1euMS57iST"
      }
    },
    {
      "cell_type": "code",
      "source": [
        "lines = textFile.filter(lambda line: \"dataset\" in line)\n",
        "lines.count()"
      ],
      "metadata": {
        "id": "09VbSeYu7DX_"
      },
      "execution_count": null,
      "outputs": []
    },
    {
      "cell_type": "markdown",
      "source": [
        "* Collect (i.e. extract from the spark cluster) the lines containing the word `\"dataset\"`"
      ],
      "metadata": {
        "id": "jk6-GT0p9IrC"
      }
    },
    {
      "cell_type": "code",
      "source": [
        "lines.collect()"
      ],
      "metadata": {
        "id": "ELhj-jdX7g4O"
      },
      "execution_count": null,
      "outputs": []
    },
    {
      "cell_type": "markdown",
      "source": [
        "# First steps working with RDD's"
      ],
      "metadata": {
        "id": "PTJUac-OUdex"
      }
    },
    {
      "cell_type": "markdown",
      "source": [
        "Create a parallelized collection holding the numbers 1 to 5:"
      ],
      "metadata": {
        "id": "umi5WsO0WU56"
      }
    },
    {
      "cell_type": "code",
      "source": [
        "data = [1, 2, 3, 4, 5]\n",
        "distData = sc.parallelize(data)"
      ],
      "metadata": {
        "id": "rTbpSgFtUk7i"
      },
      "execution_count": null,
      "outputs": []
    },
    {
      "cell_type": "markdown",
      "source": [
        "Once created, the distributed dataset (distData) can be operated on in parallel.\n",
        "\n",
        "For example, we can call distData.reduce(lambda a, b: a + b) to add up the elements of the list."
      ],
      "metadata": {
        "id": "dhFOae7BWcmy"
      }
    },
    {
      "cell_type": "code",
      "source": [
        "distData.reduce(lambda a, b: a + b)"
      ],
      "metadata": {
        "id": "aDw1PtmGWPde"
      },
      "execution_count": null,
      "outputs": []
    },
    {
      "cell_type": "markdown",
      "source": [
        "An important parameter for parallel collections is the number of partitions to cut the dataset into.\n",
        "Spark will run one task for each partition of the cluster.\n",
        "\n",
        "*   Spark will run one task for each partition of the cluster.\n",
        "*   Typically you want 2-4 partitions for each CPU in your cluster.\n",
        "\n",
        "Normally, Spark tries to set the number of partitions automatically based on your cluster. However, you can also set it manually by passing it as a second parameter to parallelize (e.g. sc.parallelize(data, 10)).\n",
        "\n",
        "Note: some places in the code use the term slices (a synonym for partitions) to maintain backward compatibility."
      ],
      "metadata": {
        "id": "v5mNiJhHWyys"
      }
    },
    {
      "cell_type": "markdown",
      "source": [
        "## RDD operations"
      ],
      "metadata": {
        "id": "SK-7in94XYRI"
      }
    },
    {
      "cell_type": "code",
      "source": [
        "lines = sc.textFile(\"sample_data/README.md\")\n",
        "lineLengths = lines.map(lambda s: len(s))\n",
        "totalLength = lineLengths.reduce(lambda a, b: a + b)"
      ],
      "metadata": {
        "id": "agjAKd6sWqoD"
      },
      "execution_count": null,
      "outputs": []
    },
    {
      "cell_type": "code",
      "source": [
        "totalLength"
      ],
      "metadata": {
        "id": "VPC6ttIpYh6X"
      },
      "execution_count": null,
      "outputs": []
    },
    {
      "cell_type": "markdown",
      "source": [
        "The first line defines a base RDD from an external file.\n",
        "This dataset is not loaded in memory or otherwise acted on: lines is merely a pointer to the file.\n",
        "\n",
        "The second line defines lineLengths as the result of a map transformation. Again, lineLengths is not immediately computed, due to laziness.\n",
        "\n",
        "Finally, we run reduce, which is an action.\n",
        "\n",
        "At this point Spark breaks the computation into tasks to run on separate machines, and each machine runs both its part of the map and a local reduction, returning only its answer to the driver program.\n",
        "\n",
        "If we also wanted to use lineLengths again later, we could add:"
      ],
      "metadata": {
        "id": "ctrODzQhYFiw"
      }
    }
  ]
}