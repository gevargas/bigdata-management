{
  "nbformat": 4,
  "nbformat_minor": 0,
  "metadata": {
    "colab": {
      "name": "mrjobs.ipynb",
      "provenance": [],
      "collapsed_sections": [],
      "include_colab_link": true
    },
    "kernelspec": {
      "name": "python3",
      "display_name": "Python 3"
    },
    "language_info": {
      "name": "python"
    }
  },
  "cells": [
    {
      "cell_type": "markdown",
      "metadata": {
        "id": "view-in-github",
        "colab_type": "text"
      },
      "source": [
        "<a href=\"https://colab.research.google.com/github/gevargas/bigdata-management/blob/master/mrjobs.ipynb\" target=\"_parent\"><img src=\"https://colab.research.google.com/assets/colab-badge.svg\" alt=\"Open In Colab\"/></a>"
      ]
    },
    {
      "cell_type": "markdown",
      "source": [
        "\n",
        "\n",
        "```\n",
        "# Ce texte est au format code\n",
        "```\n",
        "\n",
        "# Example 3: counting the number of lines of a file (mrjob python library)"
      ],
      "metadata": {
        "id": "2SsMg5Axvigz"
      }
    },
    {
      "cell_type": "markdown",
      "source": [
        "* Install mrjob"
      ],
      "metadata": {
        "id": "mlpmGPHk6qPN"
      }
    },
    {
      "cell_type": "code",
      "source": [
        "!pip install mrjob"
      ],
      "metadata": {
        "id": "Zj6Jcxso6vtk",
        "outputId": "5a8dcca3-b83a-4c64-aaf5-b95c44701b1f",
        "colab": {
          "base_uri": "https://localhost:8080/"
        }
      },
      "execution_count": null,
      "outputs": [
        {
          "output_type": "stream",
          "name": "stdout",
          "text": [
            "Collecting mrjob\n",
            "  Downloading mrjob-0.7.4-py2.py3-none-any.whl (439 kB)\n",
            "\u001b[?25l\r\u001b[K     |▊                               | 10 kB 18.7 MB/s eta 0:00:01\r\u001b[K     |█▌                              | 20 kB 12.1 MB/s eta 0:00:01\r\u001b[K     |██▎                             | 30 kB 9.5 MB/s eta 0:00:01\r\u001b[K     |███                             | 40 kB 8.4 MB/s eta 0:00:01\r\u001b[K     |███▊                            | 51 kB 4.6 MB/s eta 0:00:01\r\u001b[K     |████▌                           | 61 kB 5.4 MB/s eta 0:00:01\r\u001b[K     |█████▏                          | 71 kB 5.4 MB/s eta 0:00:01\r\u001b[K     |██████                          | 81 kB 5.3 MB/s eta 0:00:01\r\u001b[K     |██████▊                         | 92 kB 5.9 MB/s eta 0:00:01\r\u001b[K     |███████▌                        | 102 kB 5.1 MB/s eta 0:00:01\r\u001b[K     |████████▏                       | 112 kB 5.1 MB/s eta 0:00:01\r\u001b[K     |█████████                       | 122 kB 5.1 MB/s eta 0:00:01\r\u001b[K     |█████████▊                      | 133 kB 5.1 MB/s eta 0:00:01\r\u001b[K     |██████████▍                     | 143 kB 5.1 MB/s eta 0:00:01\r\u001b[K     |███████████▏                    | 153 kB 5.1 MB/s eta 0:00:01\r\u001b[K     |████████████                    | 163 kB 5.1 MB/s eta 0:00:01\r\u001b[K     |████████████▊                   | 174 kB 5.1 MB/s eta 0:00:01\r\u001b[K     |█████████████▍                  | 184 kB 5.1 MB/s eta 0:00:01\r\u001b[K     |██████████████▏                 | 194 kB 5.1 MB/s eta 0:00:01\r\u001b[K     |███████████████                 | 204 kB 5.1 MB/s eta 0:00:01\r\u001b[K     |███████████████▋                | 215 kB 5.1 MB/s eta 0:00:01\r\u001b[K     |████████████████▍               | 225 kB 5.1 MB/s eta 0:00:01\r\u001b[K     |█████████████████▏              | 235 kB 5.1 MB/s eta 0:00:01\r\u001b[K     |██████████████████              | 245 kB 5.1 MB/s eta 0:00:01\r\u001b[K     |██████████████████▋             | 256 kB 5.1 MB/s eta 0:00:01\r\u001b[K     |███████████████████▍            | 266 kB 5.1 MB/s eta 0:00:01\r\u001b[K     |████████████████████▏           | 276 kB 5.1 MB/s eta 0:00:01\r\u001b[K     |████████████████████▉           | 286 kB 5.1 MB/s eta 0:00:01\r\u001b[K     |█████████████████████▋          | 296 kB 5.1 MB/s eta 0:00:01\r\u001b[K     |██████████████████████▍         | 307 kB 5.1 MB/s eta 0:00:01\r\u001b[K     |███████████████████████         | 317 kB 5.1 MB/s eta 0:00:01\r\u001b[K     |███████████████████████▉        | 327 kB 5.1 MB/s eta 0:00:01\r\u001b[K     |████████████████████████▋       | 337 kB 5.1 MB/s eta 0:00:01\r\u001b[K     |█████████████████████████▍      | 348 kB 5.1 MB/s eta 0:00:01\r\u001b[K     |██████████████████████████      | 358 kB 5.1 MB/s eta 0:00:01\r\u001b[K     |██████████████████████████▉     | 368 kB 5.1 MB/s eta 0:00:01\r\u001b[K     |███████████████████████████▋    | 378 kB 5.1 MB/s eta 0:00:01\r\u001b[K     |████████████████████████████▎   | 389 kB 5.1 MB/s eta 0:00:01\r\u001b[K     |█████████████████████████████   | 399 kB 5.1 MB/s eta 0:00:01\r\u001b[K     |█████████████████████████████▉  | 409 kB 5.1 MB/s eta 0:00:01\r\u001b[K     |██████████████████████████████▋ | 419 kB 5.1 MB/s eta 0:00:01\r\u001b[K     |███████████████████████████████▎| 430 kB 5.1 MB/s eta 0:00:01\r\u001b[K     |████████████████████████████████| 439 kB 5.1 MB/s \n",
            "\u001b[?25hRequirement already satisfied: PyYAML>=3.10 in /usr/local/lib/python3.7/dist-packages (from mrjob) (3.13)\n",
            "Installing collected packages: mrjob\n",
            "Successfully installed mrjob-0.7.4\n"
          ]
        }
      ]
    },
    {
      "cell_type": "markdown",
      "source": [
        "* Copy mrjob examples"
      ],
      "metadata": {
        "id": "Evz2m5HYyL8o"
      }
    },
    {
      "cell_type": "code",
      "source": [
        "!cp -r /usr/local/lib/python3.7/dist-packages/mrjob/examples ."
      ],
      "metadata": {
        "id": "PERW6XJ95EfZ"
      },
      "execution_count": null,
      "outputs": []
    },
    {
      "cell_type": "markdown",
      "source": [
        "* Count frequent words containing the letter 'u'"
      ],
      "metadata": {
        "id": "TRctZUpGySwn"
      }
    },
    {
      "cell_type": "code",
      "source": [
        "!python \\\n",
        "     /content/examples/mr_words_containing_u_freq_count.py -r local \\\n",
        "     /content/examples/docs-to-classify/twinkletoes-milne.txt"
      ],
      "metadata": {
        "id": "eFSuzyxlRGTc",
        "outputId": "7020223b-fc94-4bd8-bc36-8ca3cbb6d5c2",
        "colab": {
          "base_uri": "https://localhost:8080/"
        }
      },
      "execution_count": null,
      "outputs": [
        {
          "output_type": "stream",
          "name": "stdout",
          "text": [
            "No configs found; falling back on auto-configuration\n",
            "No configs specified for local runner\n",
            "Creating temp directory /tmp/mr_words_containing_u_freq_count.root.20220321.140921.290809\n",
            "Running step 1 of 1...\n",
            "job output is in /tmp/mr_words_containing_u_freq_count.root.20220321.140921.290809/output\n",
            "Streaming final output from /tmp/mr_words_containing_u_freq_count.root.20220321.140921.290809/output...\n",
            "\"through\"\t1\n",
            "\"sun\"\t2\n",
            "Removing temp directory /tmp/mr_words_containing_u_freq_count.root.20220321.140921.290809...\n"
          ]
        }
      ]
    },
    {
      "cell_type": "markdown",
      "source": [
        "# Ex: Which files are we reading input from?"
      ],
      "metadata": {
        "id": "szNv_-z_2hI-"
      }
    },
    {
      "cell_type": "code",
      "source": [
        "%%writefile mr_count_lines_by_file.py\n",
        "\n",
        "\"\"\"Which files are we reading input from?\"\"\"\n",
        "from mrjob.compat import jobconf_from_env\n",
        "from mrjob.job import MRJob\n",
        "\n",
        "class MRCountLinesByFile(MRJob):\n",
        "\n",
        "    def mapper(self, _, line):\n",
        "        yield jobconf_from_env('mapreduce.map.input.file'), 1\n",
        "\n",
        "    def reducer(self, path, ones):\n",
        "        yield path, sum(ones)\n",
        "\n",
        "if __name__ == '__main__':\n",
        "    MRCountLinesByFile.run()"
      ],
      "metadata": {
        "id": "e7AOukEdScRS",
        "colab": {
          "base_uri": "https://localhost:8080/"
        },
        "outputId": "1aa73b6c-de24-40f6-a234-331de7836859"
      },
      "execution_count": null,
      "outputs": [
        {
          "output_type": "stream",
          "name": "stdout",
          "text": [
            "Writing mr_count_lines_by_file.py\n"
          ]
        }
      ]
    },
    {
      "cell_type": "code",
      "source": [
        "input = \"examples/docs-to-classify/*\"\n",
        "mrjob = \"mr_count_lines_by_file.py\"\n",
        "\n",
        "!python $mrjob $input"
      ],
      "metadata": {
        "colab": {
          "base_uri": "https://localhost:8080/"
        },
        "id": "J_Buny4428XB",
        "outputId": "aeb6d753-9281-4dc5-b04e-39fa853dc9bd"
      },
      "execution_count": null,
      "outputs": [
        {
          "output_type": "stream",
          "name": "stdout",
          "text": [
            "No configs found; falling back on auto-configuration\n",
            "No configs specified for inline runner\n",
            "Creating temp directory /tmp/mr_count_lines_by_file.root.20220321.142703.025987\n",
            "Running step 1 of 1...\n",
            "job output is in /tmp/mr_count_lines_by_file.root.20220321.142703.025987/output\n",
            "Streaming final output from /tmp/mr_count_lines_by_file.root.20220321.142703.025987/output...\n",
            "\"file://examples/docs-to-classify/corner_of_the_street-milne-not_whitman.txt\"\t8\n",
            "\"file://examples/docs-to-classify/happiness-milne.txt\"\t16\n",
            "\"file://examples/docs-to-classify/in_cabind_ships_at_sea-whitman.txt\"\t31\n",
            "\"file://examples/docs-to-classify/lines_and_squares-milne-animals.txt\"\t9\n",
            "\"file://examples/docs-to-classify/ones_self_i_sing-whitman.txt\"\t11\n",
            "\"file://examples/docs-to-classify/puppy_and_i-milne-animals.txt\"\t35\n",
            "\"file://examples/docs-to-classify/the_christening-milne-animals.txt\"\t14\n",
            "\"file://examples/docs-to-classify/the_four_friends-milne-animals.txt\"\t20\n",
            "\"file://examples/docs-to-classify/to_a_historian-whitman.txt\"\t11\n",
            "\"file://examples/docs-to-classify/to_foreign_lands-whitman-america.txt\"\t3\n",
            "\"file://examples/docs-to-classify/to_thee_old_cause-whitman.txt\"\t21\n",
            "\"file://examples/docs-to-classify/twinkletoes-milne.txt\"\t10\n",
            "\"file://examples/docs-to-classify/american_feuillage-whitman-america.txt\"\t33\n",
            "\"file://examples/docs-to-classify/as_i_ponderd_in_silence-whitman.txt\"\t21\n",
            "\"file://examples/docs-to-classify/buckingham_palace-milne-not_america.txt\"\t30\n",
            "\"file://examples/docs-to-classify/chants_democratic-whitman-america.txt\"\t387\n",
            "Removing temp directory /tmp/mr_count_lines_by_file.root.20220321.142703.025987...\n"
          ]
        }
      ]
    },
    {
      "cell_type": "markdown",
      "source": [
        "# Example 4: grep"
      ],
      "metadata": {
        "id": "fskSTVkmBBXw"
      }
    },
    {
      "cell_type": "code",
      "source": [
        "!cat /content/examples/docs-to-classify/chants_democratic-whitman-america.txt"
      ],
      "metadata": {
        "colab": {
          "base_uri": "https://localhost:8080/"
        },
        "id": "GD-MS_aJDO0D",
        "outputId": "fc5fd049-523c-4a74-c0a5-2fc7da9b139a"
      },
      "execution_count": null,
      "outputs": [
        {
          "output_type": "stream",
          "name": "stdout",
          "text": [
            "STARTING FROM PAUMANOK.\n",
            "1.\n",
            "\n",
            "Starting from fish-shape Paumanok,[1] where I was born,\n",
            "Well-begotten, and raised by a perfect mother;\n",
            "After roaming many lands—lover of populous pavements;\n",
            "Dweller in Mannahatta,[2] city of ships, my city,—or on southern savannas;\n",
            "Or a soldier camped, or carrying my knapsack and gun—or a miner in\n",
            "        California;\n",
            "Or rude in my home in Dakotah's woods, my diet meat, my drink from the\n",
            "        spring;\n",
            "Or withdrawn to muse and meditate in some deep recess,\n",
            "Far from the clank of crowds, intervals passing, rapt and happy;\n",
            "Aware of the fresh free giver, the flowing Missouri—aware of mighty\n",
            "        Niagara\n",
            "Aware of the buffalo herds, grazing the plains—the hirsute and strong-\n",
            "        breasted bull;\n",
            "Of earths, rocks, fifth-month flowers, experienced—stars, rain, snow, my\n",
            "        amaze;\n",
            "Having studied the mocking-bird's tones, and the mountain hawk's,\n",
            "And heard at dusk the unrivalled one, the hermit thrush, from the\n",
            "        swamp-cedars,\n",
            "Solitary, singing in the West, I strike up for a New World.\n",
            "2.\n",
            "\n",
            "Victory, union, faith, identity, time,\n",
            "Yourself, the present and future lands, the indissoluble compacts, riches,\n",
            "        mystery,\n",
            "Eternal progress, the kosmos, and the modern reports.\n",
            "This, then, is life;\n",
            "Here is what has come to the surface after so many throes and convulsions.\n",
            "How curious! how real!\n",
            "Under foot the divine soil—over head the sun.\n",
            "See, revolving, the globe;\n",
            "The ancestor-continents, away, grouped together;\n",
            "The present and future continents, north and south, with the isthmus\n",
            "        between.\n",
            "See, vast trackless spaces;\n",
            "As in a dream, they change, they swiftly fill;\n",
            "Countless masses debouch upon them;\n",
            "They are now covered with the foremost people, arts, institutions, known.\n",
            "See, projected through time,\n",
            "For me an audience interminable.\n",
            "With firm and regular step they wend—they never stop,\n",
            "Successions of men, Americanos, a hundred millions;\n",
            "One generation playing its part, and passing on,\n",
            "Another generation playing its part, and passing on in its turn,\n",
            "With faces turned sideways or backward towards me, to listen,\n",
            "With eyes retrospective towards me.\n",
            "3.\n",
            "\n",
            "Americanos! conquerors! marches humanitarian;\n",
            "Foremost! century marches! Libertad! masses!\n",
            "For you a programme of chants.\n",
            "Chants of the prairies;\n",
            "Chants of the long-running Mississippi, and down to the Mexican Sea;\n",
            "Chants of Ohio, Indiana, Illinois, Iowa, Wisconsin, and Minnesota;\n",
            "Chants going forth from the centre, from Kansas, and thence, equidistant,\n",
            "Shooting in pulses of fire, ceaseless, to vivify all.\n",
            "4.\n",
            "\n",
            "In the Year 80 of the States,[3]\n",
            "My tongue, every atom of my blood, formed from this soil, this air,\n",
            "Born here of parents born here, from parents the same, and their parents\n",
            "        the same,\n",
            "I, now thirty-six years old, in perfect health begin,\n",
            "Hoping to cease not till death.\n",
            "Creeds and schools in abeyance,\n",
            "(Retiring back a while, sufficed at what they are, but never forgotten.)\n",
            "I harbour, for good or bad—I permit to speak, at every hazard—\n",
            "Nature now without check, with original energy.\n",
            "5.\n",
            "\n",
            "Take my leaves, America! take them South, and take them North!\n",
            "Make welcome for them everywhere, for they are your own offspring;\n",
            "Surround them, East and West! for they would surround you;\n",
            "And you precedents! connect lovingly with them, for they connect lovingly\n",
            "        with you.\n",
            "I conned old times;\n",
            "I sat studying at the feet of the great masters:\n",
            "Now, if eligible, O that the great masters might return and study me!\n",
            "In the name of these States, shall I scorn the antique?\n",
            "Why, these are the children of the antique, to justify it.\n",
            "6.\n",
            "\n",
            "Dead poets, philosophs, priests,\n",
            "Martyrs, artists, inventors, governments long since,\n",
            "Language-shapers on other shores,\n",
            "Nations once powerful, now reduced, withdrawn, or desolate,\n",
            "I dare not proceed till I respectfully credit what you have left, wafted\n",
            "        hither:\n",
            "I have perused it—own it is admirable, (moving awhile among it;)\n",
            "Think nothing can ever be greater—nothing can ever deserve more than it\n",
            "        deserves;\n",
            "Regarding it all intently a long while, then dismissing it,\n",
            "I stand in my place, with my own day, here.\n",
            "Here lands female and male;\n",
            "Here the heirship and heiress-ship of the world—here the flame of\n",
            "        materials;\n",
            "Here spirituality, the translatress, the openly-avowed,\n",
            "The ever-tending, the finale of visible forms;\n",
            "The satisfier, after due long-waiting, now advancing,\n",
            "Yes, here comes my mistress, the Soul.\n",
            "7.\n",
            "\n",
            "The SOUL! For ever and for ever—longer than soil is brown and solid—longer than water ebbs and flows.\n",
            "\n",
            "I will make the poems of materials, for I think they are to be the most\n",
            "        spiritual poems;\n",
            "And I will make the poems of my body and of mortality,\n",
            "For I think I shall then supply myself with the poems of my soul, and of\n",
            "        immortality.\n",
            "I will make a song for these States, that no one State may under any\n",
            "        circumstances be subjected to another State;\n",
            "And I will make a song that there shall be comity by day and by night\n",
            "        between all the States, and between any two of them;\n",
            "And I will make a song for the ears of the President, full of weapons with\n",
            "        menacing points,\n",
            "And behind the weapons countless dissatisfied faces:\n",
            "And a song make I, of the One formed out of all;\n",
            "The fanged and glittering one whose head is over all;\n",
            "Resolute, warlike one, including and over all;\n",
            "However high the head of any else, that head is over all.\n",
            "I will acknowledge contemporary lands;\n",
            "I will trail the whole geography of the globe, and salute courteously every\n",
            "        city large and small;\n",
            "And employments! I will put in my poems, that with you is heroism, upon\n",
            "        land and sea—And I will report all heroism from an American point\n",
            "        of view;\n",
            "And sexual organs and acts! do you concentrate in me—for I am determined\n",
            "        to tell you with courageous clear voice, to prove you illustrious.\n",
            "I will sing the song of companionship;\n",
            "I will show what alone must finally compact these;\n",
            "I believe These are to found their own ideal of manly love, indicating it\n",
            "        in me;\n",
            "I will therefore let flame from me the burning fires that were threatening\n",
            "        to consume me;\n",
            "I will lift what has too long kept down those smouldering fires;\n",
            "I will give them complete abandonment;\n",
            "I will write the evangel-poem of comrades and of love;\n",
            "For who but I should understand love, with all its sorrow and joy?\n",
            "And who but I should be the poet of comrades?\n",
            "8.\n",
            "\n",
            "I am the credulous man of qualities, ages, races;\n",
            "I advance from the people en masse in their own spirit;\n",
            "Here is what sings unrestricted faith.\n",
            "Omnes! Omnes! let others ignore what they may;\n",
            "I make the poem of evil also—I commemorate that part also;\n",
            "I am myself just as much evil as good, and my nation is—And I say there is\n",
            "        in fact no evil,\n",
            "Or if there is, I say it is just as important to you, to the land, or to\n",
            "        me, as anything else.\n",
            "I too, following many, and followed by many, inaugurate a Religion—I too\n",
            "        go to the wars;\n",
            "It may be I am destined to utter the loudest cries thereof, the winner's\n",
            "        pealing shouts;\n",
            "Who knows? they may rise from me yet, and soar above everything.\n",
            "Each is not for its own sake; I say the whole earth, and all the stars in the sky, are for religion's sake.\n",
            "\n",
            "I say no man has ever yet been half devout enough;\n",
            "None has ever yet adored or worshipped half enough;\n",
            "None has begun to think how divine he himself is, and how certain the\n",
            "        future is.\n",
            "I say that the real and permanent grandeur of these States must be their\n",
            "        religion;\n",
            "Otherwise there is no real and permanent grandeur;\n",
            "Nor character, nor life worthy the name, without religion;\n",
            "Nor land, nor man or woman, without religion.\n",
            "9.\n",
            "\n",
            "What are you doing, young man?\n",
            "Are you so earnest—so given up to literature, science, art, amours?\n",
            "These ostensible realities, politics, points?\n",
            "Your ambition or business, whatever it may be?\n",
            "It is well—Against such I say not a word—I am their poet also;\n",
            "But behold! such swiftly subside—burnt up for religion's sake;\n",
            "For not all matter is fuel to heat, impalpable flame, the essential life of\n",
            "        the earth,\n",
            "Any more than such are to religion.\n",
            "10.\n",
            "\n",
            "What do you seek, so pensive and silent?\n",
            "What do you need, Camerado?\n",
            "Dear son! do you think it is love?\n",
            "Listen, dear son—listen, America, daughter or son! It is a painful thing to love a man or woman to excess—and yet it satisfies—it is great; But there is something else very great—it makes the whole coincide; It, magnificent, beyond materials, with continuous hands, sweeps and provides for all.\n",
            "\n",
            "11.\n",
            "\n",
            "Know you: to drop in the earth the germs of a greater religion,\n",
            "The following chants, each for its kind, I sing.\n",
            "My comrade!\n",
            "For you, to share with me, two greatnesses—and a third one, rising\n",
            "        inclusive and more resplendent,\n",
            "The greatness of Love and Democracy—and the greatness of Religion.\n",
            "Mélange mine own! the unseen and the seen;\n",
            "Mysterious ocean where the streams empty;\n",
            "Prophetic spirit of materials shifting and flickering around me;\n",
            "Living beings, identities, now doubtless near us in the air, that we know\n",
            "        not of;\n",
            "Contact daily and hourly that will not release me;\n",
            "These selecting—these, in hints, demanded of me.\n",
            "Not he with a daily kiss onward from childhood kissing me\n",
            "Has winded and twisted around me that which holds me to him,\n",
            "Any more than I am held to the heavens, to the spiritual world,\n",
            "And to the identities of the Gods, my lovers, faithful and true,\n",
            "After what they have done to me, suggesting themes.\n",
            "O such themes! Equalities!\n",
            "O amazement of things! O divine average!\n",
            "O warblings under the sun—ushered, as now, or at noon, or setting!\n",
            "O strain, musical, flowing through ages—now reaching hither,\n",
            "I take to your reckless and composite chords—I add to them, and cheerfully\n",
            "        pass them forward.\n",
            "12.\n",
            "\n",
            "As I have walked in Alabama my morning walk, I have seen where the she-bird, the mocking-bird, sat on her nest in the briars, hatching her brood. I have seen the he-bird also; I have paused to hear him, near at hand, inflating his throat, and joyfully singing.\n",
            "\n",
            "And while I paused, it came to me that what he really sang for was not\n",
            "        there only,\n",
            "Nor for his mate nor himself only, nor all sent back by the echoes;\n",
            "But subtle, clandestine, away beyond,\n",
            "A charge transmitted, and gift occult, for those being born.\n",
            "13.\n",
            "\n",
            "Democracy!\n",
            "Near at hand to you a throat is now inflating itself and joyfully singing.\n",
            "Ma femme!\n",
            "For the brood beyond us and of us,\n",
            "For those who belong here, and those to come,\n",
            "I, exultant, to be ready for them, will now shake out carols stronger and\n",
            "        haughtier than have ever yet been heard upon earth.\n",
            "I will make the songs of passion, to give them their way, And your songs, outlawed offenders—for I scan you with kindred eyes, and carry you with me the same as any.\n",
            "\n",
            "I will make the true poem of riches,— To earn for the body and the mind whatever adheres, and goes forward, and is not dropped by death.\n",
            "\n",
            "I will effuse egotism, and show it underlying all—and I will be the bard\n",
            "        of personality;\n",
            "And I will show of male and female that either is but the equal of the\n",
            "        other;\n",
            "And I will show that there is no imperfection in the present—and can be\n",
            "        none in the future;\n",
            "And I will show that, whatever happens to anybody, it may be turned to\n",
            "beautiful results—and I will show that nothing can happen more beautiful\n",
            "        than death;\n",
            "And I will thread a thread through my poems that time and events are\n",
            "        compact,\n",
            "And that all the things of the universe are perfect miracles, each as\n",
            "        profound as any.\n",
            "I will not make poems with reference to parts;\n",
            "But I will make leaves, poems, poemets, songs, says, thoughts, with\n",
            "        reference to ensemble:\n",
            "And I will not sing with reference to a day, but with reference to all\n",
            "        days;\n",
            "And I will not make a poem, nor the least part of a poem, but has reference\n",
            "        to the soul;\n",
            "Because, having looked at the objects of the universe, I find there is no\n",
            "        one, nor any particle of one, but has reference to the soul.\n",
            "14.\n",
            "\n",
            "Was somebody asking to see the Soul? See! your own shape and countenance—persons, substances, beasts, the trees, the running rivers, the rocks and sands.\n",
            "\n",
            "All hold spiritual joys, and afterwards loosen them:\n",
            "How can the real body ever die, and be buried?\n",
            "Of your real body, and any man's or woman's real body,\n",
            "Item for item, it will elude the hands of the corpse-cleaners, and pass to\n",
            "        fitting spheres,\n",
            "Carrying what has accrued to it from the moment of birth to the moment of\n",
            "        death.\n",
            "Not the types set up by the printer return their impression, the meaning,\n",
            "        the main concern,\n",
            "Any more than a man's substance and life, or a woman's substance and life,\n",
            "        return in the body and the soul,\n",
            "Indifferently before death and after death.\n",
            "Behold! the body includes and is the meaning, the main concern—and includes and is the soul; Whoever you are! how superb and how divine is your body, or any part of it.\n",
            "\n",
            "15.\n",
            "\n",
            "Whoever you are! to you endless announcements.\n",
            "\n",
            "Daughter of the lands, did you wait for your poet?\n",
            "Did you wait for one with a flowing mouth and indicative hand?\n",
            "Toward the male of the States, and toward the female of the States,\n",
            "Live words—words to the lands.\n",
            "O the lands! interlinked, food-yielding lands!\n",
            "Land of coal and iron! Land of gold! Lands of cotton, sugar, rice!\n",
            "Land of wheat, beef, pork! Land of wool and hemp! Land of the apple and\n",
            "        grape!\n",
            "Land of the pastoral plains, the grass-fields of the world! Land of those\n",
            "        sweet-aired interminable plateaus!\n",
            "Land of the herd, the garden, the healthy house of adobie!\n",
            "Lands where the north-west Columbia winds, and where the south-west\n",
            "        Colorado winds!\n",
            "Land of the eastern Chesapeake! Land of the Delaware!\n",
            "Land of Ontario, Erie, Huron, Michigan!\n",
            "Land of the Old Thirteen! Massachusetts land! Land of Vermont and\n",
            "        Connecticut!\n",
            "Land of the ocean shores! Land of sierras and peaks!\n",
            "Land of boatmen and sailors! Fishermen's land!\n",
            "Inextricable lands! the clutched together! the passionate ones!\n",
            "The side by side! the elder and younger brothers! the bony-limbed!\n",
            "The great women's land! the feminine! the experienced sisters and the\n",
            "        inexperienced sisters!\n",
            "Far-breathed land! Arctic-braced! Mexican-breezed! the diverse! the\n",
            "        compact!\n",
            "The Pennsylvanian! the Virginian! the double Carolinian!\n",
            "O all and each well-loved by me! my intrepid nations! O I at any rate\n",
            "include you all with perfect love!\n",
            "I cannot be discharged from you—not from one, any sooner than another!\n",
            "O Death! O!—for all that, I am yet of you unseen, this hour, with\n",
            "        irrepressible love,\n",
            "Walking New England, a friend, a traveller,\n",
            "Splashing my bare feet in the edge of the summer ripples, on Paumanok's\n",
            "        sands,\n",
            "Crossing the prairies—dwelling again in Chicago—dwelling in every town,\n",
            "Observing shows, births, improvements, structures, arts,\n",
            "Listening to the orators and the oratresses in public halls,\n",
            "Of and through the States, as during life[4]—each man and woman my\n",
            "        neighbour,\n",
            "The Louisianian, the Georgian, as near to me, and I as near to him and her,\n",
            "The Mississippian and Arkansian yet with me—and I yet with any of them;\n",
            "Yet upon the plains west of the spinal river—yet in my house of adobie,\n",
            "Yet returning eastward—yet in the Sea-Side State, or in Maryland,\n",
            "Yet Canadian cheerily braving the winter—the snow and ice welcome to me,\n",
            "        or mounting the Northern Pacific, to Sitka, to Aliaska;\n",
            "Yet a true son either of Maine, or of the Granite State,[5] or of the\n",
            "        Narragansett Bay State, or of the Empire State;[6]\n",
            "Yet sailing to other shores to annex the same—yet welcoming every new\n",
            "        brother;\n",
            "Hereby applying these leaves to the new ones, from the hour they unite with\n",
            "        the old ones;\n",
            "Coming among the new ones myself, to be their companion and equal—coming\n",
            "        personally to you now;\n",
            "Enjoining you to acts, characters, spectacles, with me.\n",
            "16.\n",
            "\n",
            "With me, with firm holding—yet haste, haste on.\n",
            "For your life, adhere to me;\n",
            "Of all the men of the earth, I only can unloose you and toughen you;\n",
            "I may have to be persuaded many times before I consent to give myself to\n",
            "        you—but what of that?\n",
            "Must not Nature be persuaded many times?\n",
            "No dainty dolce affettuoso I;\n",
            "Bearded, sunburnt, gray-necked, forbidding, I have arrived,\n",
            "To be wrestled with as I pass, for the solid prizes of the universe;\n",
            "For such I afford whoever can persevere to win them.\n",
            "17.\n",
            "\n",
            "On my way a moment I pause;\n",
            "Here for you! and here for America!\n",
            "Still the Present I raise aloft—still the Future of the States I harbinge,\n",
            "        glad and sublime;\n",
            "And for the Past, I pronounce what the air holds of the red aborigines.\n",
            "The red aborigines! Leaving natural breaths, sounds of rain and winds, calls as of birds and animals in the woods, syllabled to us for names; Okonee, Koosa, Ottawa, Monongahela, Sauk, Natchez, Chattahoochee, Kaqueta, Oronoco, Wabash, Miami, Saginaw, Chippewa, Oshkosh, Walla-Walla; Leaving such to the States, they melt, they depart, charging the water and the land with names.\n",
            "\n",
            "18.\n",
            "\n",
            "O expanding and swift! O henceforth,\n",
            "Elements, breeds, adjustments, turbulent, quick, and audacious;\n",
            "A world primal again—vistas of glory, incessant and branching;\n",
            "A new race, dominating previous ones, and grander far, with new contests,\n",
            "New politics, new literatures and religions, new inventions and arts.\n",
            "These my voice announcing—I will sleep no more, but arise; You oceans that have been calm within me! how I feel you, fathomless, stirring, preparing unprecedented waves and storms.\n",
            "\n",
            "19.\n",
            "\n",
            "See! steamers steaming through my poems! See in my poems immigrants continually coming and landing; See in arriere, the wigwam, the trail, the hunter's hut, the flat-boat, the maize-leaf, the claim, the rude fence, and the backwoods village; See, on the one side the Western Sea, and on the other the Eastern Sea, how they advance and retreat upon my poems, as upon their own shores; See pastures and forests in my poems—See animals, wild and tame—See, beyond the Kanzas, countless herds of buffalo, feeding on short curly grass; See, in my poems, cities, solid, vast, inland, with paved streets, with iron and stone edifices, ceaseless vehicles, and commerce; See the many-cylindered steam printing-press—See the electric telegraph, stretching across the Continent, from the Western Sea to Manhattan; See, through Atlantica's depths, pulses American, Europe reaching—pulses of Europe, duly returned; See the strong and quick locomotive, as it departs, panting, blowing the steam-whistle; See ploughmen, ploughing farms—See miners, digging mines—See the numberless factories; See mechanics, busy at their benches, with tools—See, from among them, superior judges, philosophs, Presidents, emerge, dressed in working dresses; See, lounging through the shops and fields of the States, me, well-beloved, close-held by day and night; Hear the loud echoes of my songs there! Read the hints come at last.\n",
            "\n",
            "20.\n",
            "\n",
            "O Camerado close!\n",
            "O you and me at last—and us two only.\n",
            "O a word to clear one's path ahead endlessly!\n",
            "O something ecstatic and undemonstrable! O music wild!\n",
            "O now I triumph—and you shall also;\n",
            "O hand in hand—O wholesome pleasure—O one more desirer and lover!\n",
            "O to haste, firm holding—to haste, haste on, with me.\n",
            "[Footnote 1: Paumanok is the native name of Long Island, State of New York.\n",
            "It presents a fish-like shape on the map.]\n",
            "[Footnote 2: Mannahatta, or Manhattan, is (as many readers will know) New\n",
            "York.]\n",
            "[Footnote 3: 1856.]\n",
            "\n",
            "[Footnote 4: The poet here contemplates himself as yet living spiritually and in his poems after the death of the body, still a friend and brother to all present and future American lands and persons.]\n",
            "\n",
            "[Footnote 5: New Hampshire.]\n",
            "\n",
            "[Footnote 6: New York State.]\n"
          ]
        }
      ]
    },
    {
      "cell_type": "code",
      "source": [
        "!python \\\n",
        "     /content/examples/mr_grep.py  -r local \\\n",
        "     /content/examples/docs-to-classify/chants_democratic-whitman-america.txt -e 'Or '"
      ],
      "metadata": {
        "colab": {
          "base_uri": "https://localhost:8080/"
        },
        "id": "UE3009l0BPE0",
        "outputId": "1f236684-9fe4-46a5-cb4d-fef85c29c0d3"
      },
      "execution_count": null,
      "outputs": [
        {
          "output_type": "stream",
          "name": "stdout",
          "text": [
            "No configs found; falling back on auto-configuration\n",
            "No configs specified for local runner\n",
            "Creating temp directory /tmp/mr_grep.root.20220321.151956.606456\n",
            "Running step 1 of 1...\n",
            "job output is in /tmp/mr_grep.root.20220321.151956.606456/output\n",
            "Streaming final output from /tmp/mr_grep.root.20220321.151956.606456/output...\n",
            "Or if there is, I say it is just as important to you, to the land, or to\n",
            "Or a soldier camped, or carrying my knapsack and gun—or a miner in\n",
            "Or rude in my home in Dakotah's woods, my diet meat, my drink from the\n",
            "Or withdrawn to muse and meditate in some deep recess,\n",
            "Removing temp directory /tmp/mr_grep.root.20220321.151956.606456...\n"
          ]
        }
      ]
    },
    {
      "cell_type": "markdown",
      "source": [
        "How is this program implemented?"
      ],
      "metadata": {
        "id": "5zenOoNSHpLF"
      }
    },
    {
      "cell_type": "code",
      "source": [
        "\"\"\"Return all input lines matching the given expression.\"\"\"\n",
        "from mrjob.job import MRJob\n",
        "from mrjob.util import cmd_line\n",
        "\n",
        "\n",
        "class MRGrepJob(MRJob):\n",
        "\n",
        "    def configure_args(self):\n",
        "        super(MRGrepJob, self).configure_args()\n",
        "\n",
        "        self.add_passthru_arg(\n",
        "            '-e', '--expression',\n",
        "            required=True,\n",
        "            help=('Expression to search for. Required.'))\n",
        "\n",
        "    def mapper_cmd(self):\n",
        "        # grep will return exit status 1 if no matching lines are found\n",
        "        return cmd_line([\n",
        "            'sh', '-c',\n",
        "            'grep -e %s || RC=$?; if [ $RC -ne 1 ]; then (exit $RC); fi' % (\n",
        "                cmd_line([self.options.expression]))])\n",
        "\n",
        "\n",
        "if __name__ == '__main__':\n",
        "    MRGrepJob.run()"
      ],
      "metadata": {
        "id": "_TZJXS8pHh-7"
      },
      "execution_count": null,
      "outputs": []
    },
    {
      "cell_type": "markdown",
      "source": [
        "# Example 5: Identifying the most use word"
      ],
      "metadata": {
        "id": "waqFrLQTFO1u"
      }
    },
    {
      "cell_type": "code",
      "source": [
        "!cat /content/examples/docs-to-classify/american_feuillage-whitman-america.txt"
      ],
      "metadata": {
        "colab": {
          "base_uri": "https://localhost:8080/"
        },
        "id": "KydX4Mw9FhWn",
        "outputId": "f6dffceb-cc8e-4025-977f-ec52ad05d91b"
      },
      "execution_count": null,
      "outputs": [
        {
          "output_type": "stream",
          "name": "stdout",
          "text": [
            "AMERICA always!\n",
            "Always our own feuillage!\n",
            "Always Florida's green peninsula! Always the priceless delta of Louisiana!\n",
            "Always the cotton-fields of Alabama and Texas!\n",
            "Always California's golden hills and hollows—and the silver mountains of\n",
            "New Mexico! Always soft-breathed Cuba!\n",
            "Always the vast slope drained by the Southern Sea—inseparable with the\n",
            "        slopes drained by the Eastern and Western Seas!\n",
            "The area the eighty-third year of these States[1]—the three and a half\n",
            "        millions of square miles;\n",
            "The eighteen thousand miles of sea-coast and bay-coast on the main—the\n",
            "        thirty thousand miles of river navigation,\n",
            "The seven millions of distinct families, and the same number of dwellings—\n",
            "Always these, and more, branching forth into numberless branches;\n",
            "Always the free range and diversity! Always the continent of Democracy!\n",
            "Always the prairies, pastures, forests, vast cities, travellers, Canada,\n",
            "        the snows;\n",
            "Always these compact lands—lands tied at the hips with the belt stringing\n",
            "        the huge oval lakes;\n",
            "Always the West, with strong native persons—the increasing density there—\n",
            "        the habitans, friendly, threatening, ironical, scorning invaders;\n",
            "All sights, South, North, East—all deeds, promiscuously done at all times,\n",
            "All characters, movements, growths—a few noticed, myriads unnoticed.\n",
            "Through Mannahatta's streets I walking, these things gathering.\n",
            "On interior rivers, by night, in the glare of pine knots, steamboats\n",
            "        wooding up:\n",
            "Sunlight by day on the valley of the Susquehanna, and on the valleys of the\n",
            "Potomac and Rappahannock, and the valleys of the Roanoke and Delaware;\n",
            "In their northerly wilds beasts of prey haunting the Adirondacks the\n",
            "        hills—or lapping the Saginaw waters to drink;\n",
            "In a lonesome inlet, a sheldrake, lost from the flock, sitting on the water, rocking silently; In farmers' barns, oxen in the stable, their harvest labour done—they rest standing—they are too tired; Afar on arctic ice, the she-walrus lying drowsily, while her cubs play around; The hawk sailing where men have not yet sailed—the farthest polar sea, ripply, crystalline, open, beyond the floes; White drift spooning ahead, where the ship in the tempest dashes. On solid land, what is done in cities, as the bells all strike midnight together; In primitive woods, the sounds there also sounding—the howl of the wolf, the scream of the panther, and the hoarse bellow of the elk; In winter beneath the hard blue ice of Moosehead Lake, in summer visible through the clear waters, the great trout swimming; In lower latitudes, in warmer air, in the Carolinas, the large black buzzard floating slowly, high beyond the tree-tops, Below, the red cedar, festooned with tylandria—the pines and cypresses, growing out of the white sand that spreads far and flat; Rude boats descending the big Pedee—climbing plants, parasites, with coloured flowers and berries, enveloping huge trees, The waving drapery on the live oak, trailing long and low, noiselessly waved by the wind; The camp of Georgia waggoners, just after dark—the supper-fires, and the cooking and eating by whites and negroes, Thirty or forty great waggons—the mules, cattle, horses, feeding from troughs, The shadows, gleams, up under the leaves of the old sycamore-trees—the flames—also the black smoke from the pitch-pine, curling and rising; Southern fishermen fishing—the sounds and inlets of North Carolina's coast—the shad-fishery and the herring-fishery—the large sweep- seines—the windlasses on shore worked by horses—the clearing, curing, and packing houses; Deep in the forest, in piney woods, turpentine dropping from the incisions in the trees—There are the turpentine works, There are the negroes at work, in good health—the ground in all directions is covered with pine straw. —In Tennessee and Kentucky, slaves busy in the coalings, at the forge, by the furnace-blaze, or at the corn-shucking; In Virginia, the planter's son returning after a long absence, joyfully welcomed and kissed by the aged mulatto nurse. On rivers, boatmen safely moored at nightfall, in their boats, under shelter of high banks, Some of the younger men dance to the sound of the banjo or fiddle—others sit on the gunwale, smoking and talking; Late in the afternoon the mocking-bird, the American mimic, singing in the Great Dismal Swamp-there are the greenish waters, the resinous odour, the plenteous moss, the cypress-tree, and the juniper-tree. —Northward, young men of Mannahatta—the target company from an excursion returning home at evening—the musket-muzzles all bear bunches of flowers presented by women; Children at play—or on his father's lap a young boy fallen asleep, (how his lips move! how he smiles in his sleep!) The scout riding on horseback over the plains west of the Mississippi—he ascends a knoll and sweeps his eye around. California life—the miner, bearded, dressed in his rude costume—the staunch California friendship—the sweet air—the graves one, in passing, meets, solitary, just aside the horse-path; Down in Texas, the cotton-field, the negro-cabins—drivers driving mules or oxen before rude carts—cotton-bales piled on banks and wharves. Encircling all, vast-darting, up and wide, the American Soul, with equal hemispheres—one Love, one Dilation or Pride. —In arriere, the peace-talk with the Iroquois, the aborigines—the calumet, the pipe of good-will, arbitration, and endorsement, The sachem blowing the smoke first toward the sun and then toward the earth, The drama of the scalp-dance enacted with painted faces and guttural exclamations, The setting-out of the war-party—the long and stealthy march, The single-file—the swinging hatchets—the surprise and slaughter of enemies. —All the acts, scenes, ways, persons, attitudes, of these States— reminiscences, all institutions, All these States, compact—Every square mile of these States, without excepting a particle—you also—me also. Me pleased, rambling in lanes and country fields, Paumanok's fields, Me, observing the spiral flight of two little yellow butterflies, shuffling between each other, ascending high in the air; The darting swallow, the destroyer of insects—the fall-traveller southward, but returning northward early in the spring; The country boy at the close of the day, driving the herd of cows, and shouting to them as they loiter to browse by the roadside; The city wharf—Boston, Philadelphia, Baltimore, Charleston, New Orleans, San Francisco, The departing ships, when the sailors heave at the capstan; Evening—me in my room—the setting sun, The setting summer sun shining in my open window, showing the swarm of flies, suspended, balancing in the air in the centre of the room, darting athwart, up and down, casting swift shadows in specks on the opposite wall, where the shine is. The athletic American matron speaking in public to crowds of listeners; Males, females, immigrants, combinations—the copiousness—the individuality of the States, each for itself—the money-makers; Factories, machinery, the mechanical forces—the windlass, lever, pulley— All certainties, The certainty of space, increase, freedom, futurity; In space, the sporades, the scattered islands, the stars—on the firm earth, the lands, my lands! O lands! O all so dear to me—what you are (whatever it is), I become a part of that, whatever it is. Southward there, I screaming, with wings slow-flapping, with the myriads of gulls wintering along the coasts of Florida—or in Louisiana, with pelicans breeding, Otherways, there, atwixt the banks of the Arkansaw, the Rio Grande, the Nueces, the Brazos, the Tombigbee, the Red River, the Saskatchewan, or the Osage, I with the spring waters laughing and skipping and running; Northward, on the sands, on some shallow bay of Paumanok, I, with parties of snowy herons wading in the wet to seek worms and aquatic plants; Retreating, triumphantly twittering, the king-bird, from piercing the crow with its bill, for amusement—And I triumphantly twittering; The migrating flock of wild geese alighting in autumn to refresh themselves—the body of the flock feed—the sentinels outside move around with erect heads watching, and are from time to time relieved by other sentinels—And I feeding and taking turns with the rest; In Canadian forests, the moose, large as an ox, cornered by hunters, rising desperately on his hind-feet, and plunging with his fore-feet, the hoofs as sharp as knives—And I plunging at the hunters, cornered and desperate; In the Mannahatta, streets, piers, shipping, store-houses, and the countless workmen working in the shops, And I too of the Mannahatta, singing thereof—and no less in myself than the whole of the Mannahatta in itself, Singing the song of These, my ever-united lands—my body no more inevitably united part to part, and made one identity, any more than my lands are inevitably united, and made ONE IDENTITY; Nativities, climates, the grass of the great pastoral plains, Cities, labours, death, animals, products, good and evil—these me,— These affording, in all their particulars, endless feuillage to me and to America, how can I do less than pass the clue of the union of them, to afford the like to you? Whoever you are! how can I but offer you divine leaves, that you also be eligible as I am? How can I but, as here, chanting, invite you for yourself to collect bouquets of the incomparable feuillage of these States?\n",
            "\n",
            "[Footnote 1: 1858-59.]\n"
          ]
        }
      ]
    },
    {
      "cell_type": "code",
      "source": [
        "!python \\\n",
        "     /content/examples/mr_most_used_word.py  -r local \\\n",
        "     /content/examples/docs-to-classify/american_feuillage-whitman-america.txt"
      ],
      "metadata": {
        "colab": {
          "base_uri": "https://localhost:8080/"
        },
        "id": "8ExOe0W-F_a3",
        "outputId": "6fabe0ed-1321-4dea-ac24-2aca23b7303d"
      },
      "execution_count": null,
      "outputs": [
        {
          "output_type": "stream",
          "name": "stdout",
          "text": [
            "No configs found; falling back on auto-configuration\n",
            "No configs specified for local runner\n",
            "Creating temp directory /tmp/mr_most_used_word.root.20220321.153015.551646\n",
            "Running step 1 of 2...\n",
            "Running step 2 of 2...\n",
            "job output is in /tmp/mr_most_used_word.root.20220321.153015.551646/output\n",
            "Streaming final output from /tmp/mr_most_used_word.root.20220321.153015.551646/output...\n",
            "\"always\"\n",
            "Removing temp directory /tmp/mr_most_used_word.root.20220321.153015.551646...\n"
          ]
        }
      ]
    },
    {
      "cell_type": "markdown",
      "source": [
        "How is this program implemented?"
      ],
      "metadata": {
        "id": "WQqYgZkgHH-3"
      }
    },
    {
      "cell_type": "code",
      "source": [
        "\"\"\"Determine the most used word in the input, ignoring common \"stop\" words.\n",
        "Shows how to do a multi-step job, and how to load a support file\n",
        "from the same directory.\n",
        "\"\"\"\n",
        "import re\n",
        "\n",
        "from mrjob.job import MRJob\n",
        "from mrjob.protocol import JSONValueProtocol\n",
        "from mrjob.step import MRStep\n",
        "\n",
        "WORD_RE = re.compile(r\"[\\w']+\")\n",
        "\n",
        "\n",
        "class MRMostUsedWord(MRJob):\n",
        "    FILES = ['stop_words.txt']\n",
        "\n",
        "    OUTPUT_PROTOCOL = JSONValueProtocol\n",
        "\n",
        "    def configure_args(self):\n",
        "        super(MRMostUsedWord, self).configure_args()\n",
        "\n",
        "        # allow for alternate stop words file\n",
        "        self.add_file_arg(\n",
        "            '--stop-words-file',\n",
        "            dest='stop_words_file',\n",
        "            default=None,\n",
        "            help='alternate stop words file. lowercase words, one per line',\n",
        "        )\n",
        "\n",
        "    def mapper_init(self):\n",
        "        stop_words_path = self.options.stop_words_file or 'stop_words.txt'\n",
        "\n",
        "        with open(stop_words_path) as f:\n",
        "            self.stop_words = set(line.strip() for line in f)\n",
        "\n",
        "    def mapper_get_words(self, _, line):\n",
        "        # yield each word in the line\n",
        "        for word in WORD_RE.findall(line):\n",
        "            word = word.lower()\n",
        "            if word not in self.stop_words:\n",
        "                yield (word, 1)\n",
        "\n",
        "    def combiner_count_words(self, word, counts):\n",
        "        # sum the words we've seen so far\n",
        "        yield (word, sum(counts))\n",
        "\n",
        "    def reducer_count_words(self, word, counts):\n",
        "        # send all (num_occurrences, word) pairs to the same reducer.\n",
        "        # num_occurrences is so we can easily use Python's max() function.\n",
        "        yield None, (sum(counts), word)\n",
        "\n",
        "    # discard the key; it is just None\n",
        "    def reducer_find_max_word(self, _, word_count_pairs):\n",
        "        # each item of word_count_pairs is (count, word),\n",
        "        # so yielding one results in key=counts, value=word\n",
        "        try:\n",
        "            yield max(word_count_pairs)\n",
        "        except ValueError:\n",
        "            pass\n",
        "\n",
        "    def steps(self):\n",
        "        return [\n",
        "            MRStep(mapper_init=self.mapper_init,\n",
        "                   mapper=self.mapper_get_words,\n",
        "                   combiner=self.combiner_count_words,\n",
        "                   reducer=self.reducer_count_words),\n",
        "            MRStep(reducer=self.reducer_find_max_word)\n",
        "        ]\n",
        "\n",
        "\n",
        "if __name__ == '__main__':\n",
        "    MRMostUsedWord.run()"
      ],
      "metadata": {
        "id": "mWxo6WudGlgb"
      },
      "execution_count": null,
      "outputs": []
    },
    {
      "cell_type": "markdown",
      "source": [
        "# Example 6: Statistics\n",
        "*For any word that appears in a document, compute stats about which\n",
        "words come next (including percentage) (mrjob python library)*"
      ],
      "metadata": {
        "id": "TO_3tiRI8Qjl"
      }
    },
    {
      "cell_type": "code",
      "source": [
        ""
      ],
      "metadata": {
        "id": "oPpGmuWhFeDb"
      },
      "execution_count": null,
      "outputs": []
    },
    {
      "cell_type": "code",
      "source": [
        "!cat /content/examples/docs-to-classify/twinkletoes-milne.txt"
      ],
      "metadata": {
        "colab": {
          "base_uri": "https://localhost:8080/"
        },
        "id": "dtA8KEIT8pPu",
        "outputId": "9ee5c90e-0bfb-47bc-9c4a-165bfa4a5466"
      },
      "execution_count": null,
      "outputs": [
        {
          "output_type": "stream",
          "name": "stdout",
          "text": [
            "When the sun\n",
            "Shines through the leaves of the apple-tree,\n",
            "When the sun\n",
            "Makes shadows of the leaves of the apple-tree,\n",
            "Then I pass\n",
            "On the grass\n",
            "From one leaf to another\n",
            "From one leaf to its brother\n",
            "Tip-toe, tip-toe!\n",
            "Here I go!\n"
          ]
        }
      ]
    },
    {
      "cell_type": "markdown",
      "source": [
        "Twinkletoes, A. A. Milne https://allpoetry.com/poem/8518961-Twinkletoes-by-A.A.-Milne: A. A. (Alan Alexander) Milne (1882-1956), famous for his stories about Winnie the Pooh and Christopher Robin, Tigger, Piglet and the rest."
      ],
      "metadata": {
        "id": "-oClsC3T_fZO"
      }
    },
    {
      "cell_type": "code",
      "source": [
        "!python \\\n",
        "     /content/examples/mr_next_word_stats.py -r local \\\n",
        "     /content/examples/docs-to-classify/twinkletoes-milne.txt"
      ],
      "metadata": {
        "id": "wW55_Fno3ZBb",
        "colab": {
          "base_uri": "https://localhost:8080/"
        },
        "outputId": "bcbc0466-a26a-4f7d-c45a-8907a76c0fe0"
      },
      "execution_count": null,
      "outputs": [
        {
          "output_type": "stream",
          "name": "stdout",
          "text": [
            "No configs found; falling back on auto-configuration\n",
            "No configs specified for local runner\n",
            "Creating temp directory /tmp/mr_next_word_stats.root.20220321.144849.416528\n",
            "Running step 1 of 2...\n",
            "Running step 2 of 2...\n",
            "job output is in /tmp/mr_next_word_stats.root.20220321.144849.416528/output\n",
            "Streaming final output from /tmp/mr_next_word_stats.root.20220321.144849.416528/output...\n",
            "[\"leaves\", \"of\"]\t[2, 2, 100.0]\n",
            "[\"makes\", \"shadows\"]\t[1, 1, 100.0]\n",
            "[\"of\", \"the\"]\t[3, 3, 100.0]\n",
            "[\"on\", \"the\"]\t[1, 1, 100.0]\n",
            "[\"one\", \"leaf\"]\t[2, 2, 100.0]\n",
            "[\"shadows\", \"of\"]\t[1, 1, 100.0]\n",
            "[\"shines\", \"through\"]\t[1, 1, 100.0]\n",
            "[\"the\", \"apple\"]\t[7, 2, 28.571428571428573]\n",
            "[\"the\", \"grass\"]\t[7, 1, 14.285714285714286]\n",
            "[\"the\", \"leaves\"]\t[7, 2, 28.571428571428573]\n",
            "[\"the\", \"sun\"]\t[7, 2, 28.571428571428573]\n",
            "[\"then\", \"i\"]\t[1, 1, 100.0]\n",
            "[\"through\", \"the\"]\t[1, 1, 100.0]\n",
            "[\"tip\", \"toe\"]\t[2, 2, 100.0]\n",
            "[\"to\", \"another\"]\t[2, 1, 50.0]\n",
            "[\"to\", \"its\"]\t[2, 1, 50.0]\n",
            "[\"toe\", \"tip\"]\t[1, 1, 100.0]\n",
            "[\"when\", \"the\"]\t[2, 2, 100.0]\n",
            "[\"apple\", \"tree\"]\t[2, 2, 100.0]\n",
            "[\"from\", \"one\"]\t[2, 2, 100.0]\n",
            "[\"here\", \"i\"]\t[1, 1, 100.0]\n",
            "[\"i\", \"go\"]\t[2, 1, 50.0]\n",
            "[\"i\", \"pass\"]\t[2, 1, 50.0]\n",
            "[\"its\", \"brother\"]\t[1, 1, 100.0]\n",
            "[\"leaf\", \"to\"]\t[2, 2, 100.0]\n",
            "Removing temp directory /tmp/mr_next_word_stats.root.20220321.144849.416528...\n"
          ]
        }
      ]
    },
    {
      "cell_type": "markdown",
      "source": [
        "How is this program implemented?"
      ],
      "metadata": {
        "id": "t7in7GJw-ZHU"
      }
    },
    {
      "cell_type": "code",
      "source": [
        "\"\"\"For any word that appears in a document, compute stats about which\n",
        "words come next (including percentage).\n",
        "This is meant as a simple demonstration of why SORT_VALUES is useful.\n",
        "\"\"\"\n",
        "from mrjob.job import MRJob\n",
        "from mrjob.step import MRStep\n",
        "import re\n",
        "\n",
        "\n",
        "WORD_RE = re.compile(r\"[\\w']+\")\n",
        "\n",
        "\n",
        "class MRNextWordStats(MRJob):\n",
        "\n",
        "    SORT_VALUES = True\n",
        "\n",
        "    def steps(self):\n",
        "        return [MRStep(mapper=self.m_find_words,\n",
        "                       combiner=self.c_combine_counts,\n",
        "                       reducer=self.r_sum_counts),\n",
        "                MRStep(reducer=self.r_compute_stats)]\n",
        "\n",
        "    def m_find_words(self, _, line):\n",
        "        \"\"\"Tokenize lines, and look for pairs of adjacent words.\n",
        "        Yield (prev_word, word), 1 and (prev_word, '*'), 1 for each pair\n",
        "        \"\"\"\n",
        "        prev_word = None\n",
        "\n",
        "        for word in WORD_RE.findall(line):\n",
        "            word = word.lower()\n",
        "\n",
        "            if prev_word is not None:\n",
        "                # total up the number of times prev_word appears\n",
        "                # and the number of times next_word appears after it\n",
        "                yield (prev_word, '*'), 1\n",
        "                yield (prev_word, word), 1\n",
        "\n",
        "            prev_word = word\n",
        "\n",
        "    def c_combine_counts(self, key, counts):\n",
        "        \"\"\"Sum up all those 1s before passing data off to the reducer\"\"\"\n",
        "        yield key, sum(counts)\n",
        "\n",
        "    def r_sum_counts(self, key, counts):\n",
        "        \"\"\"Compute the number of times each pair of words appears, and the\n",
        "        number of times the first word in a pair appears, and send it to\n",
        "        a reducer that keys on the first word in the pair.\n",
        "        \"\"\"\n",
        "        count = sum(counts)\n",
        "\n",
        "        prev_word, word = key\n",
        "\n",
        "        if word == '*':\n",
        "            # we want total to arrive at r_compute_stats first, so\n",
        "            # prefix it with \"A\", which comes before \"B\"\n",
        "            yield prev_word, ('A: total', count)\n",
        "        else:\n",
        "            yield prev_word, ('B: stats', (word, count))\n",
        "\n",
        "    def r_compute_stats(self, prev_word, value):\n",
        "        \"\"\"For each pair of words, compute how many times it appears,\n",
        "        how many times the first word appears in a pair, and the percentage\n",
        "        of time the second word follows the first.\n",
        "        This relies on values appearing in sorted order; we need the total\n",
        "        number of times the first word appears before we can compute the\n",
        "        percentage for each second word.\n",
        "        \"\"\"\n",
        "        total = None\n",
        "\n",
        "        for value_type, data in value:\n",
        "            if value_type == 'A: total':\n",
        "                total = data\n",
        "            else:\n",
        "                assert value_type == 'B: stats'\n",
        "                word, count = data\n",
        "                # A comes before B, so total should already be set\n",
        "                percent = 100.0 * count / total\n",
        "                yield (prev_word, word), (total, count, percent)\n",
        "\n",
        "\n",
        "if __name__ == '__main__':\n",
        "    MRNextWordStats.run()"
      ],
      "metadata": {
        "id": "us7rFo08-oui"
      },
      "execution_count": null,
      "outputs": []
    }
  ]
}